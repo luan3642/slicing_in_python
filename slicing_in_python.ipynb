{
  "nbformat": 4,
  "nbformat_minor": 0,
  "metadata": {
    "colab": {
      "provenance": [],
      "authorship_tag": "ABX9TyMg56D1ShFexfRDoo/6o3i2",
      "include_colab_link": true
    },
    "kernelspec": {
      "name": "python3",
      "display_name": "Python 3"
    },
    "language_info": {
      "name": "python"
    }
  },
  "cells": [
    {
      "cell_type": "markdown",
      "metadata": {
        "id": "view-in-github",
        "colab_type": "text"
      },
      "source": [
        "<a href=\"https://colab.research.google.com/github/luan3642/slicing_in_python/blob/main/slicing_in_python.ipynb\" target=\"_parent\"><img src=\"https://colab.research.google.com/assets/colab-badge.svg\" alt=\"Open In Colab\"/></a>"
      ]
    },
    {
      "cell_type": "code",
      "execution_count": 5,
      "metadata": {
        "id": "Ot_iZxBnKz-l"
      },
      "outputs": [],
      "source": [
        "my_list = [10,20,30,40,50, 60, 70, 80, 90]"
      ]
    },
    {
      "cell_type": "code",
      "source": [
        "# informando onde começa o index e onde termina\n",
        "\n",
        "# start inclusivo\n",
        "# end exclusivo\n",
        "\n",
        "\n",
        "my_list[1:3]\n"
      ],
      "metadata": {
        "colab": {
          "base_uri": "https://localhost:8080/"
        },
        "id": "BLaNjywiK_HK",
        "outputId": "695ba8b0-9d34-46a8-813b-0f2864855d21"
      },
      "execution_count": 12,
      "outputs": [
        {
          "output_type": "execute_result",
          "data": {
            "text/plain": [
              "[20, 30]"
            ]
          },
          "metadata": {},
          "execution_count": 12
        }
      ]
    },
    {
      "cell_type": "code",
      "source": [
        "# omitindo o incio, ele começa do index 0\n",
        "\n",
        "my_list[:3]"
      ],
      "metadata": {
        "colab": {
          "base_uri": "https://localhost:8080/"
        },
        "id": "COyKWqNMLD0-",
        "outputId": "3293de21-9348-4bd1-b5fc-ffa492744db2"
      },
      "execution_count": 11,
      "outputs": [
        {
          "output_type": "execute_result",
          "data": {
            "text/plain": [
              "[10, 20, 30]"
            ]
          },
          "metadata": {},
          "execution_count": 11
        }
      ]
    },
    {
      "cell_type": "code",
      "source": [
        "# omitindo o final ele vai até o final\n",
        "\n",
        "my_list[2:]"
      ],
      "metadata": {
        "colab": {
          "base_uri": "https://localhost:8080/"
        },
        "id": "Y9tfKD-qLerl",
        "outputId": "90a92e12-7a5c-463b-d093-b83c0e92cd5f"
      },
      "execution_count": 13,
      "outputs": [
        {
          "output_type": "execute_result",
          "data": {
            "text/plain": [
              "[30, 40, 50]"
            ]
          },
          "metadata": {},
          "execution_count": 13
        }
      ]
    },
    {
      "cell_type": "code",
      "source": [
        "# usando step de dois em dois\n",
        "\n",
        "my_list[::2]"
      ],
      "metadata": {
        "colab": {
          "base_uri": "https://localhost:8080/"
        },
        "id": "zgu5Ljy2L34G",
        "outputId": "80ea61c6-774c-485e-ae7e-20d4983e6c43"
      },
      "execution_count": 14,
      "outputs": [
        {
          "output_type": "execute_result",
          "data": {
            "text/plain": [
              "[10, 30, 50]"
            ]
          },
          "metadata": {},
          "execution_count": 14
        }
      ]
    },
    {
      "cell_type": "code",
      "source": [
        " # slicing em index negativos\n",
        "\n",
        " # my_list = [10,20,30,40,50, 60, 70, 80, 90]\n",
        "\n",
        "print(my_list[-3])"
      ],
      "metadata": {
        "colab": {
          "base_uri": "https://localhost:8080/"
        },
        "id": "DkZPUMa1L9bB",
        "outputId": "eff04c05-9f82-4da8-a756-3f3ddfa2634f"
      },
      "execution_count": 4,
      "outputs": [
        {
          "output_type": "stream",
          "name": "stdout",
          "text": [
            "30\n"
          ]
        }
      ]
    },
    {
      "cell_type": "code",
      "source": [
        "# slicing de index negativos\n",
        "\n",
        "my_list[-7:]"
      ],
      "metadata": {
        "colab": {
          "base_uri": "https://localhost:8080/"
        },
        "id": "S--6C19UU8Jf",
        "outputId": "314c019a-049c-48f2-e2a6-0c0dd2a6d674"
      },
      "execution_count": 6,
      "outputs": [
        {
          "output_type": "execute_result",
          "data": {
            "text/plain": [
              "[30, 40, 50, 60, 70, 80, 90]"
            ]
          },
          "metadata": {},
          "execution_count": 6
        }
      ]
    },
    {
      "cell_type": "code",
      "source": [
        " #slicing de index negativos\n",
        "\n",
        "my_list[:-4]"
      ],
      "metadata": {
        "colab": {
          "base_uri": "https://localhost:8080/"
        },
        "id": "Y-YZKXfYVp_z",
        "outputId": "c5cc1ee7-e28d-4b30-aa20-01ac25442c62"
      },
      "execution_count": 7,
      "outputs": [
        {
          "output_type": "execute_result",
          "data": {
            "text/plain": [
              "[10, 20, 30, 40, 50]"
            ]
          },
          "metadata": {},
          "execution_count": 7
        }
      ]
    },
    {
      "cell_type": "code",
      "source": [
        "# como faz uma lista reversa\n",
        "\n",
        "my_list[::-1]"
      ],
      "metadata": {
        "colab": {
          "base_uri": "https://localhost:8080/"
        },
        "id": "TtvcwCnZWKmR",
        "outputId": "00334044-18a4-4b43-cc9d-7875fd6692bb"
      },
      "execution_count": 8,
      "outputs": [
        {
          "output_type": "execute_result",
          "data": {
            "text/plain": [
              "[90, 80, 70, 60, 50, 40, 30, 20, 10]"
            ]
          },
          "metadata": {},
          "execution_count": 8
        }
      ]
    },
    {
      "cell_type": "code",
      "source": [],
      "metadata": {
        "id": "J0Af-_yWWpHz"
      },
      "execution_count": null,
      "outputs": []
    }
  ]
}