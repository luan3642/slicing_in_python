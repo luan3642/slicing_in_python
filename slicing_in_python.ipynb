{
  "nbformat": 4,
  "nbformat_minor": 0,
  "metadata": {
    "colab": {
      "provenance": [],
      "authorship_tag": "ABX9TyPXWKQMOfXlUB6DoI37shEd",
      "include_colab_link": true
    },
    "kernelspec": {
      "name": "python3",
      "display_name": "Python 3"
    },
    "language_info": {
      "name": "python"
    }
  },
  "cells": [
    {
      "cell_type": "markdown",
      "metadata": {
        "id": "view-in-github",
        "colab_type": "text"
      },
      "source": [
        "<a href=\"https://colab.research.google.com/github/luan3642/slicing_in_python/blob/main/slicing_in_python.ipynb\" target=\"_parent\"><img src=\"https://colab.research.google.com/assets/colab-badge.svg\" alt=\"Open In Colab\"/></a>"
      ]
    },
    {
      "cell_type": "code",
      "execution_count": 5,
      "metadata": {
        "id": "Ot_iZxBnKz-l"
      },
      "outputs": [],
      "source": [
        "my_list = [10,20,30,40,50, 60, 70, 80, 90]"
      ]
    },
    {
      "cell_type": "code",
      "source": [
        "# informando onde começa o index e onde termina\n",
        "\n",
        "# start inclusivo\n",
        "# end exclusivo\n",
        "\n",
        "\n",
        "my_list[1:3]\n"
      ],
      "metadata": {
        "colab": {
          "base_uri": "https://localhost:8080/"
        },
        "id": "BLaNjywiK_HK",
        "outputId": "695ba8b0-9d34-46a8-813b-0f2864855d21"
      },
      "execution_count": 12,
      "outputs": [
        {
          "output_type": "execute_result",
          "data": {
            "text/plain": [
              "[20, 30]"
            ]
          },
          "metadata": {},
          "execution_count": 12
        }
      ]
    },
    {
      "cell_type": "code",
      "source": [
        "# omitindo o incio, ele começa do index 0\n",
        "\n",
        "my_list[:3]"
      ],
      "metadata": {
        "colab": {
          "base_uri": "https://localhost:8080/"
        },
        "id": "COyKWqNMLD0-",
        "outputId": "3293de21-9348-4bd1-b5fc-ffa492744db2"
      },
      "execution_count": 11,
      "outputs": [
        {
          "output_type": "execute_result",
          "data": {
            "text/plain": [
              "[10, 20, 30]"
            ]
          },
          "metadata": {},
          "execution_count": 11
        }
      ]
    },
    {
      "cell_type": "code",
      "source": [
        "# omitindo o final ele vai até o final\n",
        "\n",
        "my_list[2:]"
      ],
      "metadata": {
        "colab": {
          "base_uri": "https://localhost:8080/"
        },
        "id": "Y9tfKD-qLerl",
        "outputId": "90a92e12-7a5c-463b-d093-b83c0e92cd5f"
      },
      "execution_count": 13,
      "outputs": [
        {
          "output_type": "execute_result",
          "data": {
            "text/plain": [
              "[30, 40, 50]"
            ]
          },
          "metadata": {},
          "execution_count": 13
        }
      ]
    },
    {
      "cell_type": "code",
      "source": [
        "# usando step de dois em dois\n",
        "\n",
        "my_list[::2]"
      ],
      "metadata": {
        "colab": {
          "base_uri": "https://localhost:8080/"
        },
        "id": "zgu5Ljy2L34G",
        "outputId": "80ea61c6-774c-485e-ae7e-20d4983e6c43"
      },
      "execution_count": 14,
      "outputs": [
        {
          "output_type": "execute_result",
          "data": {
            "text/plain": [
              "[10, 30, 50]"
            ]
          },
          "metadata": {},
          "execution_count": 14
        }
      ]
    },
    {
      "cell_type": "code",
      "source": [
        " # slicing em index negativos\n",
        "\n",
        " # my_list = [10,20,30,40,50, 60, 70, 80, 90]\n",
        "\n",
        "print(my_list[-3])"
      ],
      "metadata": {
        "colab": {
          "base_uri": "https://localhost:8080/"
        },
        "id": "DkZPUMa1L9bB",
        "outputId": "eff04c05-9f82-4da8-a756-3f3ddfa2634f"
      },
      "execution_count": 4,
      "outputs": [
        {
          "output_type": "stream",
          "name": "stdout",
          "text": [
            "30\n"
          ]
        }
      ]
    },
    {
      "cell_type": "code",
      "source": [
        "# slicing de index negativos\n",
        "\n",
        "my_list[-7:]"
      ],
      "metadata": {
        "colab": {
          "base_uri": "https://localhost:8080/"
        },
        "id": "S--6C19UU8Jf",
        "outputId": "314c019a-049c-48f2-e2a6-0c0dd2a6d674"
      },
      "execution_count": 6,
      "outputs": [
        {
          "output_type": "execute_result",
          "data": {
            "text/plain": [
              "[30, 40, 50, 60, 70, 80, 90]"
            ]
          },
          "metadata": {},
          "execution_count": 6
        }
      ]
    },
    {
      "cell_type": "code",
      "source": [
        " #slicing de index negativos\n",
        "\n",
        "my_list[:-4]"
      ],
      "metadata": {
        "colab": {
          "base_uri": "https://localhost:8080/"
        },
        "id": "Y-YZKXfYVp_z",
        "outputId": "c5cc1ee7-e28d-4b30-aa20-01ac25442c62"
      },
      "execution_count": 7,
      "outputs": [
        {
          "output_type": "execute_result",
          "data": {
            "text/plain": [
              "[10, 20, 30, 40, 50]"
            ]
          },
          "metadata": {},
          "execution_count": 7
        }
      ]
    },
    {
      "cell_type": "code",
      "source": [
        "# como faz uma lista reversa\n",
        "\n",
        "my_list[::-1]"
      ],
      "metadata": {
        "colab": {
          "base_uri": "https://localhost:8080/"
        },
        "id": "TtvcwCnZWKmR",
        "outputId": "00334044-18a4-4b43-cc9d-7875fd6692bb"
      },
      "execution_count": 8,
      "outputs": [
        {
          "output_type": "execute_result",
          "data": {
            "text/plain": [
              "[90, 80, 70, 60, 50, 40, 30, 20, 10]"
            ]
          },
          "metadata": {},
          "execution_count": 8
        }
      ]
    },
    {
      "cell_type": "markdown",
      "source": [
        "<br>"
      ],
      "metadata": {
        "id": "9i7f50tKwUhb"
      }
    },
    {
      "cell_type": "markdown",
      "source": [
        "Exercises for You\n",
        "➤ Beginner\n",
        "Given the list nums = [5, 10, 15, 20, 25, 30], extract [10, 15, 20] using slicing.\n",
        "\n",
        "Reverse the string s = \"Python\" using slicing.\n",
        "\n",
        "Get every second element from letters = ['a', 'b', 'c', 'd', 'e', 'f'].\n",
        "\n",
        "Slice the last three elements from data = [100, 200, 300, 400, 500, 600]."
      ],
      "metadata": {
        "id": "4DHPZFl_wSVL"
      }
    },
    {
      "cell_type": "code",
      "source": [
        "list_nums = [5,10,15,20,25,30]\n",
        "\n",
        "list_nums[1:4]"
      ],
      "metadata": {
        "colab": {
          "base_uri": "https://localhost:8080/"
        },
        "id": "J0Af-_yWWpHz",
        "outputId": "90873f0c-ea99-44e3-f626-7baed220bdd0"
      },
      "execution_count": 17,
      "outputs": [
        {
          "output_type": "execute_result",
          "data": {
            "text/plain": [
              "['python']"
            ]
          },
          "metadata": {},
          "execution_count": 17
        }
      ]
    },
    {
      "cell_type": "code",
      "source": [
        "string = \"python\"\n",
        "\n",
        "string[::-1]"
      ],
      "metadata": {
        "colab": {
          "base_uri": "https://localhost:8080/",
          "height": 35
        },
        "id": "f_ukJM_dwdZk",
        "outputId": "f3709fab-c9b7-460d-e8fd-fdd005bb6aaa"
      },
      "execution_count": 19,
      "outputs": [
        {
          "output_type": "execute_result",
          "data": {
            "text/plain": [
              "'nohtyp'"
            ],
            "application/vnd.google.colaboratory.intrinsic+json": {
              "type": "string"
            }
          },
          "metadata": {},
          "execution_count": 19
        }
      ]
    },
    {
      "cell_type": "code",
      "source": [
        "alfabeto = [\"a\", \"b\", \"c\", \"d\", \"e\", \"f\"]"
      ],
      "metadata": {
        "id": "GFb1jhP3xSfh"
      },
      "execution_count": 20,
      "outputs": []
    },
    {
      "cell_type": "code",
      "source": [
        "alfabeto[1]"
      ],
      "metadata": {
        "colab": {
          "base_uri": "https://localhost:8080/",
          "height": 35
        },
        "id": "mXFZzgBhyUyI",
        "outputId": "6143bdb0-13e9-4c34-80d6-9603abe65f4e"
      },
      "execution_count": 21,
      "outputs": [
        {
          "output_type": "execute_result",
          "data": {
            "text/plain": [
              "'b'"
            ],
            "application/vnd.google.colaboratory.intrinsic+json": {
              "type": "string"
            }
          },
          "metadata": {},
          "execution_count": 21
        }
      ]
    },
    {
      "cell_type": "code",
      "source": [
        "numeros = [100,200,300,400,500,600]"
      ],
      "metadata": {
        "id": "IwD4Wyw-yXkA"
      },
      "execution_count": 22,
      "outputs": []
    },
    {
      "cell_type": "code",
      "source": [
        "numeros[3:]"
      ],
      "metadata": {
        "colab": {
          "base_uri": "https://localhost:8080/"
        },
        "id": "UT2um9XwyfLy",
        "outputId": "dcd44aed-e873-4521-dc91-36b6b26cc798"
      },
      "execution_count": 27,
      "outputs": [
        {
          "output_type": "execute_result",
          "data": {
            "text/plain": [
              "[400, 500, 600]"
            ]
          },
          "metadata": {},
          "execution_count": 27
        }
      ]
    },
    {
      "cell_type": "markdown",
      "source": [
        "<br>"
      ],
      "metadata": {
        "id": "QggbfemVd6Nl"
      }
    },
    {
      "cell_type": "markdown",
      "source": [
        "Intermediate\n",
        "\n",
        "From the string \"abcdefghijkl\", get every third letter starting from index 2.\n",
        "\n",
        "Given my_tuple = (1, 2, 3, 4, 5, 6), extract (2, 4, 6) using slicing.\n",
        "\n",
        "Use slicing to create a copy of the list a = [1, 2, 3, 4] (not using copy() or list comprehension).\n",
        "\n",
        "Use slicing to skip the first and last character of the string \"banana\"."
      ],
      "metadata": {
        "id": "0DenYxggd9FN"
      }
    },
    {
      "cell_type": "code",
      "source": [
        "stringAlfabeto = \"abcdefghijkl\""
      ],
      "metadata": {
        "id": "CfnmexTEeAs9"
      },
      "execution_count": 28,
      "outputs": []
    },
    {
      "cell_type": "code",
      "source": [
        "stringAlfabeto[2::3]"
      ],
      "metadata": {
        "colab": {
          "base_uri": "https://localhost:8080/",
          "height": 35
        },
        "id": "YxKU4195eKor",
        "outputId": "8d368f61-446e-4ba9-ccb8-e21014763d6b"
      },
      "execution_count": 29,
      "outputs": [
        {
          "output_type": "execute_result",
          "data": {
            "text/plain": [
              "'cfil'"
            ],
            "application/vnd.google.colaboratory.intrinsic+json": {
              "type": "string"
            }
          },
          "metadata": {},
          "execution_count": 29
        }
      ]
    },
    {
      "cell_type": "code",
      "source": [],
      "metadata": {
        "id": "v2bfnn6ke5bM"
      },
      "execution_count": null,
      "outputs": []
    }
  ]
}